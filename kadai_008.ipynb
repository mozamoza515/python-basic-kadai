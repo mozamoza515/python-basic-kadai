{
  "nbformat": 4,
  "nbformat_minor": 0,
  "metadata": {
    "colab": {
      "provenance": [],
      "authorship_tag": "ABX9TyPipOcMPIn1rNKaTN2vL/yE",
      "include_colab_link": true
    },
    "kernelspec": {
      "name": "python3",
      "display_name": "Python 3"
    },
    "language_info": {
      "name": "python"
    }
  },
  "cells": [
    {
      "cell_type": "markdown",
      "metadata": {
        "id": "view-in-github",
        "colab_type": "text"
      },
      "source": [
        "<a href=\"https://colab.research.google.com/github/mozamoza515/python-basic-kadai/blob/main/kadai_008.ipynb\" target=\"_parent\"><img src=\"https://colab.research.google.com/assets/colab-badge.svg\" alt=\"Open In Colab\"/></a>"
      ]
    },
    {
      "cell_type": "code",
      "execution_count": 96,
      "metadata": {
        "colab": {
          "base_uri": "https://localhost:8080/"
        },
        "id": "Y9hxdPsi0JQh",
        "outputId": "411ff725-e09a-44f0-e296-09a094419923"
      },
      "outputs": [
        {
          "output_type": "stream",
          "name": "stdout",
          "text": [
            "2\n"
          ]
        }
      ],
      "source": [
        "# ランダムな整数を利用するための、randomoモジュールをインポート\n",
        "import random\n",
        "\n",
        "# 変数varに1～15までのランダムな整数を代入する\n",
        "var = random.randint(1,15)\n",
        "\n",
        "'''\n",
        "変数varの値が3の倍数なら「Fizz」、5の倍数なら「Buzz」、\n",
        "3の倍数と5の倍数の両方に該当する場合は「FizzBuzz」、それ以外なら変数varの値を出力する\n",
        "'''\n",
        "if var % 3 == 0 and var % 5 == 0:\n",
        "    print(\"FizzBuzz\")\n",
        "    print(var)\n",
        "elif var % 3 == 0 :\n",
        "    print(\"Fizz\")\n",
        "    print(var)\n",
        "elif var % 5 == 0:\n",
        "    print(\"Buzz\")\n",
        "    print(var)\n",
        "else:\n",
        "    print(var)\n"
      ]
    }
  ]
}