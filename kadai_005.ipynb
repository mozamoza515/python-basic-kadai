{
  "nbformat": 4,
  "nbformat_minor": 0,
  "metadata": {
    "colab": {
      "provenance": []
    },
    "kernelspec": {
      "name": "python3",
      "display_name": "Python 3"
    },
    "language_info": {
      "name": "python"
    }
  },
  "cells": [
    {
      "cell_type": "code",
      "execution_count": 1,
      "metadata": {
        "colab": {
          "base_uri": "https://localhost:8080/"
        },
        "id": "919Z1LXbhG2r",
        "outputId": "aeaa9829-e598-4dec-8256-18d9cd1ea011"
      },
      "outputs": [
        {
          "output_type": "stream",
          "name": "stdout",
          "text": [
            "75.0㎠\n"
          ]
        }
      ],
      "source": [
        "# 上辺の長さ\n",
        "top_side = 10\n",
        "# 下辺の長さ\n",
        "bottom_side = 20\n",
        "# 高さ\n",
        "height = 5\n",
        "\n",
        "# 台形の面積\n",
        "trapezoid_area = (top_side + bottom_side) * height / 2\n",
        "\n",
        "print(str(trapezoid_area) + \"㎠\")\n"
      ]
    }
  ]
}